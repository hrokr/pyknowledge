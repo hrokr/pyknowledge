{
 "cells": [
  {
   "cell_type": "markdown",
   "metadata": {},
   "source": [
    "ex 1.<br>\n",
    "Create a function that takes two lists and returns them as dict.<br>\n",
    "For example: <br>\n",
    "```\n",
    "a = ['c', 'a', 'h']\n",
    "b = [3, 2, 1]\n",
    "```\n",
    "returns:<br>\n",
    "```\n",
    "{'c': 3, 'a': 2, 'h': 1}\n",
    "```"
   ]
  },
  {
   "cell_type": "code",
   "execution_count": null,
   "metadata": {},
   "outputs": [],
   "source": [
    "def combine(list1, list2):\n",
    "    if len(list1) == len(list2):\n",
    "        dictionary = dict(zip(list1, list2))\n",
    "        return(dictionary)\n",
    "    else:\n",
    "        print(f\"Lists must be the same size. list1 has {len(list1)} elments; list2 has {len(list2)} elements\")"
   ]
  },
  {
   "cell_type": "code",
   "execution_count": null,
   "metadata": {},
   "outputs": [],
   "source": [
    "a = ['c', 'a', 'h'] \n",
    "b = [3, 2, 1]\n",
    "\n",
    "combine(a, b)\n"
   ]
  },
  {
   "cell_type": "markdown",
   "metadata": {},
   "source": [
    "<h4>ex. 2</h4>"
   ]
  },
  {
   "cell_type": "markdown",
   "metadata": {},
   "source": [
    "rewrite ex 1 using a dict comphrehension"
   ]
  },
  {
   "cell_type": "code",
   "execution_count": null,
   "metadata": {
    "scrolled": false
   },
   "outputs": [],
   "source": [
    "list_1 = ['c', 'a', 'h'] \n",
    "list_2 = [3, 2, 1]\n",
    "out = dict(zip(list_1, list_2)) if len(list_1)==len(list_2) else print(\"lists must be same size\")\n",
    "\n"
   ]
  },
  {
   "cell_type": "code",
   "execution_count": null,
   "metadata": {},
   "outputs": [],
   "source": [
    "def solve(inte):\n",
    "    compund_nums = [inte//2, inte//2] if inte%2 == 0 else ([round((inte//2),0), (inte -round((inte//2),0))]) \n",
    "    print(compund_nums)\n",
    "    return sum([int(i) for i in str(compund_nums) if i.isdigit()])\n",
    "                \n",
    "\n",
    "solve(10001)"
   ]
  },
  {
   "cell_type": "markdown",
   "metadata": {},
   "source": [
    "### Supposedly Carl Gauss was given a task to [add all the numbers from 1 to 100 as a kid](http://www.gradeamathhelp.com/carl-friedrich-gauss.html). He realized he had two sets and could sum the end points and multiply them by the number. \n",
    "\n",
    "So, 101 * 50 = 5050\n",
    "\n",
    "We're going to do this a couple of diffent ways\n",
    "\n"
   ]
  },
  {
   "cell_type": "markdown",
   "metadata": {},
   "source": [
    "### Gauss 1 - sum of every number between 1 to 100. Be pythonic and make it a one-liner"
   ]
  },
  {
   "cell_type": "code",
   "execution_count": null,
   "metadata": {},
   "outputs": [],
   "source": [
    "x = sum([i for i in range (1,101)])\n",
    "x"
   ]
  },
  {
   "cell_type": "markdown",
   "metadata": {},
   "source": [
    "### Gauss 2 - Prove it. That is make your output print the following:\n",
    "\n",
    "```\n",
    "1) 1 + 100 = 101\n",
    "2) 2 + 99 = 101\n",
    "3) 3 + 98 = 101\n",
    "etc, etc\n",
    "```"
   ]
  },
  {
   "cell_type": "code",
   "execution_count": null,
   "metadata": {},
   "outputs": [],
   "source": [
    "for i in range(0, 50):\n",
    "    print(f\"{i+1}) {i+1} + {100-i} = {100-i + i+1}\")"
   ]
  },
  {
   "cell_type": "markdown",
   "metadata": {},
   "source": [
    "### Gauss 3 - What we hard code everything and repeat ourselves now? Make the above a function that will handle any pair of whole numbers between +/- 1,000,000. Pass in the numbers as arguements which you can assume are whole."
   ]
  },
  {
   "cell_type": "code",
   "execution_count": null,
   "metadata": {},
   "outputs": [],
   "source": [
    "def gauss_sum(lower, upper):\n",
    "    pass"
   ]
  }
 ],
 "metadata": {
  "kernelspec": {
   "display_name": "Python 3",
   "language": "python",
   "name": "python3"
  },
  "language_info": {
   "codemirror_mode": {
    "name": "ipython",
    "version": 3
   },
   "file_extension": ".py",
   "mimetype": "text/x-python",
   "name": "python",
   "nbconvert_exporter": "python",
   "pygments_lexer": "ipython3",
   "version": "3.8.3"
  }
 },
 "nbformat": 4,
 "nbformat_minor": 4
}
