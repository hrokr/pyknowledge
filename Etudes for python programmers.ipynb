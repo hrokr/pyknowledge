{
 "cells": [
  {
   "cell_type": "markdown",
   "metadata": {},
   "source": [
    "The was a book called Etudes for Programmers years back. I never read it as it was out of print and can only be bought for crazy sums. But the idea is instantly graspable and really cool. Little things to make you better where you practice on a theme. So, that's the idea for this. Short little problems. There are tons of other resources available on the web. Codewars, leetcode, hacker rank, \n",
    "\n",
    "For now, I'll leave this here. I *may* break this out into seperate notebooks in the future. "
   ]
  },
  {
   "cell_type": "code",
   "execution_count": null,
   "metadata": {},
   "outputs": [],
   "source": []
  },
  {
   "cell_type": "markdown",
   "metadata": {},
   "source": [
    "## Short 'mathy' problems"
   ]
  },
  {
   "cell_type": "code",
   "execution_count": 2,
   "metadata": {},
   "outputs": [
    {
     "ename": "SyntaxError",
     "evalue": "invalid syntax (<ipython-input-2-15385fc03ca4>, line 1)",
     "output_type": "error",
     "traceback": [
      "\u001b[0;36m  File \u001b[0;32m\"<ipython-input-2-15385fc03ca4>\"\u001b[0;36m, line \u001b[0;32m1\u001b[0m\n\u001b[0;31m    Write a function that can take a number and give the midpoint(s) as a list.\u001b[0m\n\u001b[0m          ^\u001b[0m\n\u001b[0;31mSyntaxError\u001b[0m\u001b[0;31m:\u001b[0m invalid syntax\n"
     ]
    }
   ],
   "source": [
    "Write a function that can take a number and give the midpoint(s) as a list.\n",
    "So 50 ==> [25, 25], 10001 ==> [5000, 5001]"
   ]
  },
  {
   "cell_type": "code",
   "execution_count": null,
   "metadata": {},
   "outputs": [],
   "source": [
    "def half_way(num):\n",
    "    compund_nums = [num//2, num//2] if num%2 == 0 else ([round((num//2),0), (num -round((num//2),0))]) \n",
    "    print(compund_nums)\n",
    "                \n",
    "\n",
    "half_way(13.7)"
   ]
  },
  {
   "cell_type": "code",
   "execution_count": null,
   "metadata": {},
   "outputs": [],
   "source": []
  },
  {
   "cell_type": "markdown",
   "metadata": {},
   "source": [
    "### Supposedly Carl Gauss was given a task to [add all the numbers from 1 to 100 as a kid](http://www.gradeamathhelp.com/carl-friedrich-gauss.html). He realized he had two sets and could sum the end points and multiply them by the number. \n",
    "\n",
    "So, 101 * 50 = 5050\n",
    "\n",
    "We're going to do this a couple of diffent ways"
   ]
  },
  {
   "cell_type": "markdown",
   "metadata": {},
   "source": [
    "### Gauss 1 - sum of every number between 1 to 100. Be pythonic and make it a one-liner"
   ]
  },
  {
   "cell_type": "code",
   "execution_count": 3,
   "metadata": {},
   "outputs": [
    {
     "data": {
      "text/plain": [
       "5050"
      ]
     },
     "execution_count": 3,
     "metadata": {},
     "output_type": "execute_result"
    }
   ],
   "source": [
    "x = sum([i for i in range (1,101)])\n",
    "x"
   ]
  },
  {
   "cell_type": "markdown",
   "metadata": {},
   "source": [
    "### Gauss 2 - Prove it. That is make your output print the following:\n",
    "\n",
    "```\n",
    "1) 1 + 100 = 101\n",
    "2) 2 + 99 = 101\n",
    "3) 3 + 98 = 101\n",
    "etc, etc\n",
    "```"
   ]
  },
  {
   "cell_type": "markdown",
   "metadata": {},
   "source": [
    "\n",
    "### Gauss 3 - What we hard code everything and repeat ourselves now? Make the above a function that will handle any pair of whole numbers between +/- 1,000,000. Pass in the numbers as arguements which you can assume are whole."
   ]
  },
  {
   "cell_type": "code",
   "execution_count": null,
   "metadata": {},
   "outputs": [],
   "source": [
    "def gauss_sum(lower, upper):\n",
    "    pass"
   ]
  },
  {
   "cell_type": "code",
   "execution_count": null,
   "metadata": {},
   "outputs": [],
   "source": []
  },
  {
   "cell_type": "code",
   "execution_count": null,
   "metadata": {},
   "outputs": [],
   "source": []
  },
  {
   "cell_type": "code",
   "execution_count": null,
   "metadata": {},
   "outputs": [],
   "source": []
  },
  {
   "cell_type": "code",
   "execution_count": null,
   "metadata": {},
   "outputs": [],
   "source": []
  },
  {
   "cell_type": "markdown",
   "metadata": {},
   "source": [
    "## Dictionaries and Dict Comprehensions"
   ]
  },
  {
   "cell_type": "markdown",
   "metadata": {},
   "source": [
    "### ex 1.\n",
    "Create a function that takes two lists and returns them as dict. Give an error message if the lists are of different lenghts.<br>\n",
    "For example: <br>\n",
    "```\n",
    "a = ['c', 'a', 'h']\n",
    "b = [3, 2, 1]\n",
    "```\n",
    "returns:<br>\n",
    "```\n",
    "{'c': 3, 'a': 2, 'h': 1}\n",
    "```"
   ]
  },
  {
   "cell_type": "code",
   "execution_count": null,
   "metadata": {},
   "outputs": [],
   "source": [
    "def combine(list1, list2):\n",
    "    if len(list1) == len(list2):\n",
    "        dictionary = dict(zip(list1, list2))\n",
    "        return(dictionary)\n",
    "    else:\n",
    "        print(f\"Lists must be the same size. list1 has {len(list1)} elments; list2 has {len(list2)} elements\")"
   ]
  },
  {
   "cell_type": "code",
   "execution_count": null,
   "metadata": {},
   "outputs": [],
   "source": [
    "a = ['c', 'a', 'h'] \n",
    "b = [3, 2, 1]\n",
    "\n",
    "combine(a, b)\n"
   ]
  },
  {
   "cell_type": "markdown",
   "metadata": {},
   "source": [
    "### ex. 2"
   ]
  },
  {
   "cell_type": "markdown",
   "metadata": {},
   "source": [
    "rewrite ex 1 using a dict comphrehension"
   ]
  },
  {
   "cell_type": "code",
   "execution_count": null,
   "metadata": {
    "scrolled": false
   },
   "outputs": [],
   "source": [
    "list_1 = ['c', 'a', 'h'] \n",
    "list_2 = [3, 2, 1]\n",
    "out = dict(zip(list_1, list_2)) if len(list_1)==len(list_2) else print(\"lists must be same size\")\n",
    "\n"
   ]
  },
  {
   "cell_type": "code",
   "execution_count": null,
   "metadata": {},
   "outputs": [],
   "source": [
    "for i in range(0, 50):\n",
    "    print(f\"{i+1}) {i+1} + {100-i} = {100-i + i+1}\")"
   ]
  },
  {
   "cell_type": "code",
   "execution_count": null,
   "metadata": {},
   "outputs": [],
   "source": []
  }
 ],
 "metadata": {
  "kernelspec": {
   "display_name": "Python 3",
   "language": "python",
   "name": "python3"
  },
  "language_info": {
   "codemirror_mode": {
    "name": "ipython",
    "version": 3
   },
   "file_extension": ".py",
   "mimetype": "text/x-python",
   "name": "python",
   "nbconvert_exporter": "python",
   "pygments_lexer": "ipython3",
   "version": "3.8.3"
  }
 },
 "nbformat": 4,
 "nbformat_minor": 4
}
